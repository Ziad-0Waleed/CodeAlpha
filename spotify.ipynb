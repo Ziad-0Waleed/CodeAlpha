{
 "cells": [
  {
   "cell_type": "code",
   "execution_count": 1,
   "id": "2cacf612",
   "metadata": {
    "execution": {
     "iopub.execute_input": "2024-02-16T16:41:10.219532Z",
     "iopub.status.busy": "2024-02-16T16:41:10.218891Z",
     "iopub.status.idle": "2024-02-16T16:41:13.403546Z",
     "shell.execute_reply": "2024-02-16T16:41:13.402458Z"
    },
    "papermill": {
     "duration": 3.192928,
     "end_time": "2024-02-16T16:41:13.406469",
     "exception": false,
     "start_time": "2024-02-16T16:41:10.213541",
     "status": "completed"
    },
    "tags": []
   },
   "outputs": [],
   "source": [
    "import numpy as np \n",
    "import pandas as pd # procesamiento de datos, archivos CSV  I/O (pd.read_csv)\n",
    "import os\n",
    "import seaborn as sns\n",
    "import plotly.express as px"
   ]
  },
  {
   "cell_type": "code",
   "execution_count": 2,
   "id": "6a91f242",
   "metadata": {
    "execution": {
     "iopub.execute_input": "2024-02-16T16:41:13.416183Z",
     "iopub.status.busy": "2024-02-16T16:41:13.414697Z",
     "iopub.status.idle": "2024-02-16T16:41:13.422800Z",
     "shell.execute_reply": "2024-02-16T16:41:13.421626Z"
    },
    "papermill": {
     "duration": 0.014833,
     "end_time": "2024-02-16T16:41:13.424868",
     "exception": false,
     "start_time": "2024-02-16T16:41:13.410035",
     "status": "completed"
    },
    "tags": []
   },
   "outputs": [
    {
     "name": "stdout",
     "output_type": "stream",
     "text": [
      "Matplotlib version: 3.7.4\n"
     ]
    }
   ],
   "source": [
    "import matplotlib\n",
    "import matplotlib.pyplot as plt\n",
    "print(\"Matplotlib version:\", matplotlib.__version__)"
   ]
  },
  {
   "cell_type": "code",
   "execution_count": 3,
   "id": "a3543ebe",
   "metadata": {
    "execution": {
     "iopub.execute_input": "2024-02-16T16:41:13.434528Z",
     "iopub.status.busy": "2024-02-16T16:41:13.432532Z",
     "iopub.status.idle": "2024-02-16T16:41:13.480103Z",
     "shell.execute_reply": "2024-02-16T16:41:13.478767Z"
    },
    "papermill": {
     "duration": 0.054628,
     "end_time": "2024-02-16T16:41:13.482852",
     "exception": false,
     "start_time": "2024-02-16T16:41:13.428224",
     "status": "completed"
    },
    "tags": []
   },
   "outputs": [
    {
     "data": {
      "text/html": [
       "<div>\n",
       "<style scoped>\n",
       "    .dataframe tbody tr th:only-of-type {\n",
       "        vertical-align: middle;\n",
       "    }\n",
       "\n",
       "    .dataframe tbody tr th {\n",
       "        vertical-align: top;\n",
       "    }\n",
       "\n",
       "    .dataframe thead th {\n",
       "        text-align: right;\n",
       "    }\n",
       "</style>\n",
       "<table border=\"1\" class=\"dataframe\">\n",
       "  <thead>\n",
       "    <tr style=\"text-align: right;\">\n",
       "      <th></th>\n",
       "      <th>danceability</th>\n",
       "      <th>energy</th>\n",
       "      <th>key</th>\n",
       "      <th>loudness</th>\n",
       "      <th>mode</th>\n",
       "      <th>speechiness</th>\n",
       "      <th>acousticness</th>\n",
       "      <th>instrumentalness</th>\n",
       "      <th>liveness</th>\n",
       "      <th>valence</th>\n",
       "      <th>tempo</th>\n",
       "      <th>duration_ms</th>\n",
       "      <th>time_signature</th>\n",
       "      <th>liked</th>\n",
       "    </tr>\n",
       "  </thead>\n",
       "  <tbody>\n",
       "    <tr>\n",
       "      <th>0</th>\n",
       "      <td>0.803</td>\n",
       "      <td>0.6240</td>\n",
       "      <td>7</td>\n",
       "      <td>-6.764</td>\n",
       "      <td>0</td>\n",
       "      <td>0.0477</td>\n",
       "      <td>0.451</td>\n",
       "      <td>0.000734</td>\n",
       "      <td>0.1000</td>\n",
       "      <td>0.6280</td>\n",
       "      <td>95.968</td>\n",
       "      <td>304524</td>\n",
       "      <td>4</td>\n",
       "      <td>0</td>\n",
       "    </tr>\n",
       "    <tr>\n",
       "      <th>1</th>\n",
       "      <td>0.762</td>\n",
       "      <td>0.7030</td>\n",
       "      <td>10</td>\n",
       "      <td>-7.951</td>\n",
       "      <td>0</td>\n",
       "      <td>0.3060</td>\n",
       "      <td>0.206</td>\n",
       "      <td>0.000000</td>\n",
       "      <td>0.0912</td>\n",
       "      <td>0.5190</td>\n",
       "      <td>151.329</td>\n",
       "      <td>247178</td>\n",
       "      <td>4</td>\n",
       "      <td>1</td>\n",
       "    </tr>\n",
       "    <tr>\n",
       "      <th>2</th>\n",
       "      <td>0.261</td>\n",
       "      <td>0.0149</td>\n",
       "      <td>1</td>\n",
       "      <td>-27.528</td>\n",
       "      <td>1</td>\n",
       "      <td>0.0419</td>\n",
       "      <td>0.992</td>\n",
       "      <td>0.897000</td>\n",
       "      <td>0.1020</td>\n",
       "      <td>0.0382</td>\n",
       "      <td>75.296</td>\n",
       "      <td>286987</td>\n",
       "      <td>4</td>\n",
       "      <td>0</td>\n",
       "    </tr>\n",
       "    <tr>\n",
       "      <th>3</th>\n",
       "      <td>0.722</td>\n",
       "      <td>0.7360</td>\n",
       "      <td>3</td>\n",
       "      <td>-6.994</td>\n",
       "      <td>0</td>\n",
       "      <td>0.0585</td>\n",
       "      <td>0.431</td>\n",
       "      <td>0.000001</td>\n",
       "      <td>0.1230</td>\n",
       "      <td>0.5820</td>\n",
       "      <td>89.860</td>\n",
       "      <td>208920</td>\n",
       "      <td>4</td>\n",
       "      <td>1</td>\n",
       "    </tr>\n",
       "    <tr>\n",
       "      <th>4</th>\n",
       "      <td>0.787</td>\n",
       "      <td>0.5720</td>\n",
       "      <td>1</td>\n",
       "      <td>-7.516</td>\n",
       "      <td>1</td>\n",
       "      <td>0.2220</td>\n",
       "      <td>0.145</td>\n",
       "      <td>0.000000</td>\n",
       "      <td>0.0753</td>\n",
       "      <td>0.6470</td>\n",
       "      <td>155.117</td>\n",
       "      <td>179413</td>\n",
       "      <td>4</td>\n",
       "      <td>1</td>\n",
       "    </tr>\n",
       "  </tbody>\n",
       "</table>\n",
       "</div>"
      ],
      "text/plain": [
       "   danceability  energy  key  loudness  mode  speechiness  acousticness  \\\n",
       "0         0.803  0.6240    7    -6.764     0       0.0477         0.451   \n",
       "1         0.762  0.7030   10    -7.951     0       0.3060         0.206   \n",
       "2         0.261  0.0149    1   -27.528     1       0.0419         0.992   \n",
       "3         0.722  0.7360    3    -6.994     0       0.0585         0.431   \n",
       "4         0.787  0.5720    1    -7.516     1       0.2220         0.145   \n",
       "\n",
       "   instrumentalness  liveness  valence    tempo  duration_ms  time_signature  \\\n",
       "0          0.000734    0.1000   0.6280   95.968       304524               4   \n",
       "1          0.000000    0.0912   0.5190  151.329       247178               4   \n",
       "2          0.897000    0.1020   0.0382   75.296       286987               4   \n",
       "3          0.000001    0.1230   0.5820   89.860       208920               4   \n",
       "4          0.000000    0.0753   0.6470  155.117       179413               4   \n",
       "\n",
       "   liked  \n",
       "0      0  \n",
       "1      1  \n",
       "2      0  \n",
       "3      1  \n",
       "4      1  "
      ]
     },
     "execution_count": 3,
     "metadata": {},
     "output_type": "execute_result"
    }
   ],
   "source": [
    "mobile_df = pd.read_csv('/kaggle/input/spotify-recommendation/data.csv')\n",
    "mobile_df.head()"
   ]
  },
  {
   "cell_type": "code",
   "execution_count": 4,
   "id": "19e3b9de",
   "metadata": {
    "execution": {
     "iopub.execute_input": "2024-02-16T16:41:13.492509Z",
     "iopub.status.busy": "2024-02-16T16:41:13.492135Z",
     "iopub.status.idle": "2024-02-16T16:41:13.508321Z",
     "shell.execute_reply": "2024-02-16T16:41:13.507145Z"
    },
    "papermill": {
     "duration": 0.023303,
     "end_time": "2024-02-16T16:41:13.510489",
     "exception": false,
     "start_time": "2024-02-16T16:41:13.487186",
     "status": "completed"
    },
    "tags": []
   },
   "outputs": [
    {
     "name": "stdout",
     "output_type": "stream",
     "text": [
      "Index([1, 0], dtype='int64', name='mode')\n",
      "[105  90]\n"
     ]
    }
   ],
   "source": [
    "mode = mobile_df['mode'].value_counts()\n",
    "print(mode.index) # etiquetas de barra\n",
    "print(mode.values)"
   ]
  },
  {
   "cell_type": "code",
   "execution_count": 5,
   "id": "8e3a58e1",
   "metadata": {
    "execution": {
     "iopub.execute_input": "2024-02-16T16:41:13.520636Z",
     "iopub.status.busy": "2024-02-16T16:41:13.519399Z",
     "iopub.status.idle": "2024-02-16T16:41:13.759461Z",
     "shell.execute_reply": "2024-02-16T16:41:13.758250Z"
    },
    "papermill": {
     "duration": 0.24803,
     "end_time": "2024-02-16T16:41:13.762235",
     "exception": false,
     "start_time": "2024-02-16T16:41:13.514205",
     "status": "completed"
    },
    "tags": []
   },
   "outputs": [
    {
     "data": {
      "image/png": "[encoded data removed]",
      "text/plain": [
       "<Figure size 640x480 with 1 Axes>"
      ]
     },
     "metadata": {},
     "output_type": "display_data"
    }
   ],
   "source": [
    "plt.bar(x=mode.index, height=mode.values);"
   ]
  },
  {
   "cell_type": "code",
   "execution_count": 6,
   "id": "b5118065",
   "metadata": {
    "execution": {
     "iopub.execute_input": "2024-02-16T16:41:13.773257Z",
     "iopub.status.busy": "2024-02-16T16:41:13.771887Z",
     "iopub.status.idle": "2024-02-16T16:41:13.969107Z",
     "shell.execute_reply": "2024-02-16T16:41:13.968047Z"
    },
    "papermill": {
     "duration": 0.204819,
     "end_time": "2024-02-16T16:41:13.971352",
     "exception": false,
     "start_time": "2024-02-16T16:41:13.766533",
     "status": "completed"
    },
    "tags": []
   },
   "outputs": [
    {
     "data": {
      "image/png": "[encoded data removed]",
      "text/plain": [
       "<Figure size 640x480 with 1 Axes>"
      ]
     },
     "metadata": {},
     "output_type": "display_data"
    }
   ],
   "source": [
    "plt.bar(x=mode.index, height=mode.values, color=['blue', 'green']);"
   ]
  },
  {
   "cell_type": "code",
   "execution_count": 7,
   "id": "fbee2399",
   "metadata": {
    "execution": {
     "iopub.execute_input": "2024-02-16T16:41:13.981724Z",
     "iopub.status.busy": "2024-02-16T16:41:13.981303Z",
     "iopub.status.idle": "2024-02-16T16:41:14.169029Z",
     "shell.execute_reply": "2024-02-16T16:41:14.168192Z"
    },
    "papermill": {
     "duration": 0.195406,
     "end_time": "2024-02-16T16:41:14.171065",
     "exception": false,
     "start_time": "2024-02-16T16:41:13.975659",
     "status": "completed"
    },
    "tags": []
   },
   "outputs": [
    {
     "data": {
      "image/png": "[encoded data removed]",
      "text/plain": [
       "<Figure size 640x480 with 1 Axes>"
      ]
     },
     "metadata": {},
     "output_type": "display_data"
    }
   ],
   "source": [
    "plt.barh(y=mode.index, width=mode.values, color=['red', 'green']);"
   ]
  },
  {
   "cell_type": "code",
   "execution_count": 8,
   "id": "10f169ed",
   "metadata": {
    "execution": {
     "iopub.execute_input": "2024-02-16T16:41:14.181806Z",
     "iopub.status.busy": "2024-02-16T16:41:14.181400Z",
     "iopub.status.idle": "2024-02-16T16:41:14.281146Z",
     "shell.execute_reply": "2024-02-16T16:41:14.280009Z"
    },
    "papermill": {
     "duration": 0.108016,
     "end_time": "2024-02-16T16:41:14.283593",
     "exception": false,
     "start_time": "2024-02-16T16:41:14.175577",
     "status": "completed"
    },
    "tags": []
   },
   "outputs": [
    {
     "data": {
      "image/png": "[encoded data removed]",
      "text/plain": [
       "<Figure size 640x480 with 1 Axes>"
      ]
     },
     "metadata": {},
     "output_type": "display_data"
    }
   ],
   "source": [
    "x = mobile_df['mode'].value_counts()\n",
    "\n",
    "plt.pie(x);"
   ]
  },
  {
   "cell_type": "code",
   "execution_count": 9,
   "id": "d4c5e08c",
   "metadata": {
    "execution": {
     "iopub.execute_input": "2024-02-16T16:41:14.294890Z",
     "iopub.status.busy": "2024-02-16T16:41:14.294490Z",
     "iopub.status.idle": "2024-02-16T16:41:14.483539Z",
     "shell.execute_reply": "2024-02-16T16:41:14.482355Z"
    },
    "papermill": {
     "duration": 0.197802,
     "end_time": "2024-02-16T16:41:14.486126",
     "exception": false,
     "start_time": "2024-02-16T16:41:14.288324",
     "status": "completed"
    },
    "tags": []
   },
   "outputs": [
    {
     "data": {
      "image/png": "[encoded data removed]",
      "text/plain": [
       "<Figure size 640x480 with 1 Axes>"
      ]
     },
     "metadata": {},
     "output_type": "display_data"
    }
   ],
   "source": [
    "age = mobile_df['mode']\n",
    "fare = mobile_df['mode']\n",
    "\n",
    "plt.scatter(x=age, y=fare);"
   ]
  },
  {
   "cell_type": "code",
   "execution_count": 10,
   "id": "a70c02c0",
   "metadata": {
    "execution": {
     "iopub.execute_input": "2024-02-16T16:41:14.498043Z",
     "iopub.status.busy": "2024-02-16T16:41:14.497630Z",
     "iopub.status.idle": "2024-02-16T16:41:14.585740Z",
     "shell.execute_reply": "2024-02-16T16:41:14.584449Z"
    },
    "papermill": {
     "duration": 0.097019,
     "end_time": "2024-02-16T16:41:14.588279",
     "exception": false,
     "start_time": "2024-02-16T16:41:14.491260",
     "status": "completed"
    },
    "tags": []
   },
   "outputs": [
    {
     "data": {
      "image/png": "[encoded data removed]",
      "text/plain": [
       "<Figure size 640x480 with 1 Axes>"
      ]
     },
     "metadata": {},
     "output_type": "display_data"
    }
   ],
   "source": [
    "plt.pie(x, labels=['mode', 'key'], startangle=90, explode=[0.1, 0]);"
   ]
  }
 ],
 "metadata": {
  "kaggle": {
   "accelerator": "none",
   "dataSources": [
    {
     "datasetId": 1495083,
     "sourceId": 2469778,
     "sourceType": "datasetVersion"
    }
   ],
   "dockerImageVersionId": 30646,
   "isGpuEnabled": false,
   "isInternetEnabled": true,
   "language": "python",
   "sourceType": "notebook"
  },
  "kernelspec": {
   "display_name": "Python 3",
   "language": "python",
   "name": "python3"
  },
  "language_info": {
   "codemirror_mode": {
    "name": "ipython",
    "version": 3
   },
   "file_extension": ".py",
   "mimetype": "text/x-python",
   "name": "python",
   "nbconvert_exporter": "python",
   "pygments_lexer": "ipython3",
   "version": "3.10.13"
  },
  "papermill": {
   "default_parameters": {},
   "duration": 7.882483,
   "end_time": "2024-02-16T16:41:15.215241",
   "environment_variables": {},
   "exception": null,
   "input_path": "__notebook__.ipynb",
   "output_path": "__notebook__.ipynb",
   "parameters": {},
   "start_time": "2024-02-16T16:41:07.332758",
   "version": "2.5.0"
  }
 },
 "nbformat": 4,
 "nbformat_minor": 5
}
